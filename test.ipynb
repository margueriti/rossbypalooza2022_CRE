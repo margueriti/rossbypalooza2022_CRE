{
 "cells": [
  {
   "cell_type": "code",
   "execution_count": 2,
   "metadata": {},
   "outputs": [],
   "source": [
    "import numpy as np\n",
    "import xarray as xr"
   ]
  },
  {
   "cell_type": "code",
   "execution_count": 9,
   "metadata": {},
   "outputs": [
    {
     "name": "stdout",
     "output_type": "stream",
     "text": [
      "KeysView(<xarray.Dataset>\n",
      "Dimensions:    (time: 504, longitude: 1440, latitude: 721)\n",
      "Coordinates:\n",
      "  * time       (time) datetime64[ns] 1979-01-01 1979-02-01 ... 2020-12-01\n",
      "  * longitude  (longitude) float32 0.0 0.25 0.5 0.75 ... 359.0 359.2 359.5 359.8\n",
      "  * latitude   (latitude) float32 90.0 89.75 89.5 89.25 ... -89.5 -89.75 -90.0\n",
      "Data variables:\n",
      "    ssr        (time, latitude, longitude) float32 ...\n",
      "    str        (time, latitude, longitude) float32 ...\n",
      "    tsr        (time, latitude, longitude) float32 ...\n",
      "    ttr        (time, latitude, longitude) float32 ...\n",
      "Attributes:\n",
      "    CDI:          Climate Data Interface version 1.9.2 (http://mpimet.mpg.de/...\n",
      "    Conventions:  CF-1.6\n",
      "    history:      Thu Sep 23 12:00:26 2021: cdo mergetime era5_rad_1979_2019....\n",
      "    CDO:          Climate Data Operators version 1.9.2 (http://mpimet.mpg.de/...)\n",
      "Frozen({'time': <xarray.IndexVariable 'time' (time: 504)>\n",
      "array(['1979-01-01T00:00:00.000000000', '1979-02-01T00:00:00.000000000',\n",
      "       '1979-03-01T00:00:00.000000000', ..., '2020-10-01T00:00:00.000000000',\n",
      "       '2020-11-01T00:00:00.000000000', '2020-12-01T00:00:00.000000000'],\n",
      "      dtype='datetime64[ns]')\n",
      "Attributes:\n",
      "    standard_name:  time\n",
      "    long_name:      time\n",
      "    axis:           T, 'longitude': <xarray.IndexVariable 'longitude' (longitude: 1440)>\n",
      "array([0.0000e+00, 2.5000e-01, 5.0000e-01, ..., 3.5925e+02, 3.5950e+02,\n",
      "       3.5975e+02], dtype=float32)\n",
      "Attributes:\n",
      "    standard_name:  longitude\n",
      "    long_name:      longitude\n",
      "    units:          degrees_east\n",
      "    axis:           X, 'latitude': <xarray.IndexVariable 'latitude' (latitude: 721)>\n",
      "array([ 90.  ,  89.75,  89.5 , ..., -89.5 , -89.75, -90.  ], dtype=float32)\n",
      "Attributes:\n",
      "    standard_name:  latitude\n",
      "    long_name:      latitude\n",
      "    units:          degrees_north\n",
      "    axis:           Y, 'ssr': <xarray.Variable (time: 504, latitude: 721, longitude: 1440)>\n",
      "[523272960 values with dtype=float32]\n",
      "Attributes:\n",
      "    standard_name:  surface_net_downward_shortwave_flux\n",
      "    long_name:      Surface net solar radiation\n",
      "    units:          J m**-2, 'str': <xarray.Variable (time: 504, latitude: 721, longitude: 1440)>\n",
      "[523272960 values with dtype=float32]\n",
      "Attributes:\n",
      "    standard_name:  surface_net_upward_longwave_flux\n",
      "    long_name:      Surface net thermal radiation\n",
      "    units:          J m**-2, 'tsr': <xarray.Variable (time: 504, latitude: 721, longitude: 1440)>\n",
      "[523272960 values with dtype=float32]\n",
      "Attributes:\n",
      "    standard_name:  toa_net_upward_shortwave_flux\n",
      "    long_name:      Top net solar radiation\n",
      "    units:          J m**-2, 'ttr': <xarray.Variable (time: 504, latitude: 721, longitude: 1440)>\n",
      "[523272960 values with dtype=float32]\n",
      "Attributes:\n",
      "    standard_name:  toa_outgoing_longwave_flux\n",
      "    long_name:      Top net thermal radiation\n",
      "    units:          J m**-2})\n"
     ]
    }
   ],
   "source": [
    "filesource = '/project2/tas1/abacus/data1/tas/archive/Reanalysis/ERA5/era5_rad_1979_2020.nc'\n",
    "\n",
    "with xr.open_dataset(filesource) as ds:\n",
    "    print (ds.keys())\n",
    "    print (ds.variables)"
   ]
  },
  {
   "cell_type": "code",
   "execution_count": 12,
   "metadata": {},
   "outputs": [
    {
     "name": "stdout",
     "output_type": "stream",
     "text": [
      "(504, 721, 1440)\n"
     ]
    }
   ],
   "source": [
    "with xr.open_dataset(filesource) as ds:\n",
    "    ssr = ds['ssr'].values #surface solar radiation (downward)\n",
    "    stherm = ds['str'].values #surface net thermal radiation (downward)\n",
    "    tsr = ds['tsr'].values #TOA solar radiation (shortwave, up)\n",
    "    ttr = ds['ttr'].values #TOA thermal radiation (longwave, up)\n",
    "    "
   ]
  },
  {
   "cell_type": "code",
   "execution_count": null,
   "metadata": {},
   "outputs": [],
   "source": []
  }
 ],
 "metadata": {
  "kernelspec": {
   "display_name": "Python 3",
   "language": "python",
   "name": "python3"
  },
  "language_info": {
   "codemirror_mode": {
    "name": "ipython",
    "version": 3
   },
   "file_extension": ".py",
   "mimetype": "text/x-python",
   "name": "python",
   "nbconvert_exporter": "python",
   "pygments_lexer": "ipython3",
   "version": "3.7.6"
  }
 },
 "nbformat": 4,
 "nbformat_minor": 4
}
